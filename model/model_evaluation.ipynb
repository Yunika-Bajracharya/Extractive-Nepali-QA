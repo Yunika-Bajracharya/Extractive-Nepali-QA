{
 "cells": [
  {
   "cell_type": "code",
   "execution_count": null,
   "metadata": {
    "_cell_guid": "b1076dfc-b9ad-4769-8c92-a6c4dae69d19",
    "_uuid": "8f2839f25d086af736a60e9eeb907d3b93b6e0e5",
    "execution": {
     "iopub.execute_input": "2025-03-03T19:40:17.954716Z",
     "iopub.status.busy": "2025-03-03T19:40:17.954354Z",
     "iopub.status.idle": "2025-03-03T19:42:29.609249Z",
     "shell.execute_reply": "2025-03-03T19:42:29.608335Z",
     "shell.execute_reply.started": "2025-03-03T19:40:17.954690Z"
    },
    "trusted": true
   },
   "outputs": [],
   "source": [
    "!pip install evaluate\n",
    "from datasets import load_dataset\n",
    "from transformers import pipeline, AutoModelForQuestionAnswering, AutoTokenizer\n",
    "import evaluate\n",
    "\n",
    "# Hindi XQuAD dataset\n",
    "dataset = load_dataset(\"xquad\", \"xquad.hi\")\n",
    "\n",
    "\n",
    "model_name = \"Yunika/muril-large-squad\"  \n",
    "model = AutoModelForQuestionAnswering.from_pretrained(model_name)\n",
    "tokenizer = AutoTokenizer.from_pretrained(model_name)\n",
    "\n",
    "qa_pipeline = pipeline(\"question-answering\", model=model, tokenizer=tokenizer)\n",
    "\n",
    "metric = evaluate.load(\"squad\")\n",
    "\n",
    "predictions = []\n",
    "references = []\n",
    "\n",
    "for example in dataset[\"validation\"]:\n",
    "    question = example[\"question\"]\n",
    "    context = example[\"context\"]\n",
    "    gold_answers = example[\"answers\"][\"text\"]\n",
    "\n",
    "    result = qa_pipeline(question=question, context=context)\n",
    "    predicted_answer = result[\"answer\"]\n",
    "\n",
    "    predictions.append({\"id\": example[\"id\"], \"prediction_text\": predicted_answer})\n",
    "    references.append({\"id\": example[\"id\"], \"answers\": {\"text\": gold_answers, \"answer_start\": example[\"answers\"][\"answer_start\"]}})\n",
    "\n",
    "results = metric.compute(predictions=predictions, references=references)\n",
    "print(results)  \n"
   ]
  },
  {
   "cell_type": "code",
   "execution_count": null,
   "metadata": {
    "execution": {
     "iopub.execute_input": "2025-03-03T19:45:06.925235Z",
     "iopub.status.busy": "2025-03-03T19:45:06.924848Z",
     "iopub.status.idle": "2025-03-03T19:45:50.808710Z",
     "shell.execute_reply": "2025-03-03T19:45:50.807863Z",
     "shell.execute_reply.started": "2025-03-03T19:45:06.925201Z"
    },
    "trusted": true
   },
   "outputs": [],
   "source": [
    "from transformers import pipeline\n",
    "\n",
    "question_answerer  = pipeline(\"question-answering\", model=\"Yunika/muril-base-squad-np-hi\")\n",
    "\n",
    "\n",
    "context = \"\"\"Pulchowk Campus (Nepali: पुल्चोक क्याम्पस) is one of the five constituent campuses under Institute of Engineering of Tribhuvan University.[1] Situated at Pulchowk of Lalitpur metropolitan city, Pulchowk Campus is the central campus of Institute of Engineering. Established in 1972 AD, the campus is second oldest engineering institution of Nepal after Thapathali Campus. The campus offers bachelor degree, master degree and doctoral degree programs in various disciplines.\n",
    "\n",
    "Students who have passed an entrance exam conducted by IOE are allowed to apply for admission.About 8000-10000 students give the entrance exam all over Nepal. It is one of the toughest entrance exam of Nepal. Students are admitted by priority selection according to their score in IOE entrance exam. The campus has 624 seats at Bachelor level and 480 seats at Masters level.\"\"\"\n",
    "\n",
    "question = \"पुल्चोक क्याम्पसमा कुन–कुन शैक्षिक डिग्री कार्यक्रमहरू उपलब्ध छन्?\"\n",
    "\n",
    "response = question_answerer(question=question, context=context)\n",
    "print(response)"
   ]
  }
 ],
 "metadata": {
  "kaggle": {
   "accelerator": "gpu",
   "dataSources": [
    {
     "datasetId": 6763002,
     "sourceId": 10883651,
     "sourceType": "datasetVersion"
    },
    {
     "datasetId": 6768467,
     "sourceId": 10891639,
     "sourceType": "datasetVersion"
    }
   ],
   "dockerImageVersionId": 30918,
   "isGpuEnabled": true,
   "isInternetEnabled": true,
   "language": "python",
   "sourceType": "notebook"
  },
  "kernelspec": {
   "display_name": "Python 3",
   "language": "python",
   "name": "python3"
  },
  "language_info": {
   "codemirror_mode": {
    "name": "ipython",
    "version": 3
   },
   "file_extension": ".py",
   "mimetype": "text/x-python",
   "name": "python",
   "nbconvert_exporter": "python",
   "pygments_lexer": "ipython3",
   "version": "3.10.12"
  }
 },
 "nbformat": 4,
 "nbformat_minor": 4
}

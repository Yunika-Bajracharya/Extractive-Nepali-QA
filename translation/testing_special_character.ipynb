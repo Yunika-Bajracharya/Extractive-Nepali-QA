{
 "cells": [
  {
   "cell_type": "code",
   "execution_count": null,
   "metadata": {},
   "outputs": [],
   "source": [
    "import pandas as pd"
   ]
  },
  {
   "cell_type": "code",
   "execution_count": null,
   "metadata": {},
   "outputs": [],
   "source": [
    "import os\n",
    "\n",
    "def load_from_directory(directory):\n",
    "    dfs = []\n",
    "    for filename in os.listdir(directory):\n",
    "        if \"question\" not in filename:\n",
    "            continue\n",
    "\n",
    "        total_path = os.path.join(directory, filename)\n",
    "        if os.path.isfile(total_path):\n",
    "            dfs.append(pd.read_excel(total_path))\n",
    "            print(f\"loaded {total_path}\")\n",
    "    return dfs\n",
    "\n",
    "dfs = load_from_directory()\n"
   ]
  },
  {
   "cell_type": "code",
   "execution_count": null,
   "metadata": {},
   "outputs": [],
   "source": [
    "import re\n",
    "import json \n",
    "\n",
    "def extract_content_and_answer(content, index, question, special_character: str=\"**\"):\n",
    "    cleaned_content = content.replace(\"**\", \"\")\n",
    "    # Remove <sp> tags from content\n",
    "    answer_search = re.search(r\"\\*(.*?)\\*\", content)\n",
    "\n",
    "    if answer_search:\n",
    "        answer = answer_search.group(1)\n",
    "    else:\n",
    "        print(f\"Could not find answer in content: {content} Index: {index} Row: {row}\")\n",
    "        return {\"index\": index, \"content\": content, \"row\": question}, False\n",
    "\n",
    "    # Find start index of answer in cleaned content\n",
    "    answer_start = cleaned_content.find(answer)\n",
    "    return {\n",
    "        'context': cleaned_content,\n",
    "        'answers': {'text': [answer], 'answer_start': [answer_start]}\n",
    "    }, True\n",
    "\n",
    "special_symbol_data = []\n",
    "not_correct = []\n",
    "for index, row in df.iterrows():\n",
    "    # Access the values of each column in the row\n",
    "    content =  row.iloc[0]\n",
    "    question = row.iloc[1]\n",
    "\n",
    "    content_and_answer, is_correct = extract_content_and_answer(content, index, question)\n",
    "\n",
    "    if is_correct:\n",
    "        if len(content_and_answer['answers']['text'][0]) == 0:\n",
    "            continue\n",
    "\n",
    "        content_and_answer['question'] = question.strip()\n",
    "        content_and_answer['id'] = index\n",
    "        \n",
    "\n",
    "        special_symbol_data.append(content_and_answer)\n",
    "    \n",
    "\n",
    "    if not is_correct:\n",
    "        # print(f\"Could not find answer in content: {content} Index: {index} Row: {row}\")\n",
    "        not_correct.append(content_and_answer)\n",
    "        \n",
    "with open(\"not_correct_file.json\", 'w', encoding=\"utf-8\") as f:\n",
    "    json.dump(not_correct, f, default=str, ensure_ascii=False, indent=4)\n"
   ]
  },
  {
   "cell_type": "code",
   "execution_count": null,
   "metadata": {},
   "outputs": [],
   "source": [
    "modified_data = {'data': special_symbol_data}\n",
    "\n",
    "print(modified_data['data'][:2])\n",
    "import json\n",
    "with open('squad_symbol_hi.json', 'w') as f:\n",
    "    json.dump(modified_data, f)"
   ]
  },
  {
   "cell_type": "code",
   "execution_count": null,
   "metadata": {},
   "outputs": [],
   "source": [
    "len(special_symbol_data)"
   ]
  },
  {
   "cell_type": "code",
   "execution_count": null,
   "metadata": {},
   "outputs": [],
   "source": [
    "import json\n",
    "with open('squad_symbol', 'w') as f:\n",
    "    json.dump(modified_data, f)"
   ]
  }
 ],
 "metadata": {
  "kernelspec": {
   "display_name": "nepqa-KyYasDVU-py3.10",
   "language": "python",
   "name": "python3"
  },
  "language_info": {
   "codemirror_mode": {
    "name": "ipython",
    "version": 3
   },
   "file_extension": ".py",
   "mimetype": "text/x-python",
   "name": "python",
   "nbconvert_exporter": "python",
   "pygments_lexer": "ipython3",
   "version": "3.10.12"
  }
 },
 "nbformat": 4,
 "nbformat_minor": 2
}
